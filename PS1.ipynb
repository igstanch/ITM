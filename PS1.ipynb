{
 "cells": [
  {
   "cell_type": "code",
   "execution_count": 107,
   "id": "5ab1bfa0-fa28-4dd9-9093-68d8cda73985",
   "metadata": {},
   "outputs": [
    {
     "name": "stdout",
     "output_type": "stream",
     "text": [
      "140\n"
     ]
    }
   ],
   "source": [
    "def savings(gross_pay, tax_rate, expenses):\n",
    "    gross_pay = int(gross_pay)\n",
    "    tax_rate = float(tax_rate)\n",
    "    expenses = int(expenses)\n",
    "    taxes = int(tax_rate * gross_pay)\n",
    "    \n",
    "    after_tax_pay = int(gross_pay - taxes)\n",
    "    savings = int(after_tax_pay - expenses)\n",
    "    return savings\n",
    "\n",
    "    after_tax_pay = math.floor(after_tax_pay)\n"
   ]
  },
  {
   "cell_type": "code",
   "execution_count": null,
   "id": "4f23f7e5-908c-4b5b-a09e-890eda794a1f",
   "metadata": {},
   "outputs": [],
   "source": []
  }
 ],
 "metadata": {
  "kernelspec": {
   "display_name": "Python 3 (ipykernel)",
   "language": "python",
   "name": "python3"
  },
  "language_info": {
   "codemirror_mode": {
    "name": "ipython",
    "version": 3
   },
   "file_extension": ".py",
   "mimetype": "text/x-python",
   "name": "python",
   "nbconvert_exporter": "python",
   "pygments_lexer": "ipython3",
   "version": "3.11.7"
  }
 },
 "nbformat": 4,
 "nbformat_minor": 5
}
