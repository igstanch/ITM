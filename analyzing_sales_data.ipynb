{
 "cells": [
  {
   "cell_type": "code",
   "execution_count": 3,
   "id": "644125b0-e8fb-4b4d-80ef-2d7af911319f",
   "metadata": {},
   "outputs": [
    {
     "data": {
      "text/html": [
       "<div>\n",
       "<style scoped>\n",
       "    .dataframe tbody tr th:only-of-type {\n",
       "        vertical-align: middle;\n",
       "    }\n",
       "\n",
       "    .dataframe tbody tr th {\n",
       "        vertical-align: top;\n",
       "    }\n",
       "\n",
       "    .dataframe thead th {\n",
       "        text-align: right;\n",
       "    }\n",
       "</style>\n",
       "<table border=\"1\" class=\"dataframe\">\n",
       "  <thead>\n",
       "    <tr style=\"text-align: right;\">\n",
       "      <th></th>\n",
       "      <th>invoice_no</th>\n",
       "      <th>customer_id</th>\n",
       "      <th>category</th>\n",
       "      <th>quantity</th>\n",
       "      <th>price</th>\n",
       "      <th>payment_method</th>\n",
       "      <th>invoice_date</th>\n",
       "      <th>shopping_mall</th>\n",
       "    </tr>\n",
       "  </thead>\n",
       "  <tbody>\n",
       "    <tr>\n",
       "      <th>0</th>\n",
       "      <td>I138884</td>\n",
       "      <td>229</td>\n",
       "      <td>Clothing</td>\n",
       "      <td>5</td>\n",
       "      <td>1500.40</td>\n",
       "      <td>Credit Card</td>\n",
       "      <td>5/8/2022</td>\n",
       "      <td>Kanyon</td>\n",
       "    </tr>\n",
       "    <tr>\n",
       "      <th>1</th>\n",
       "      <td>I317333</td>\n",
       "      <td>3433</td>\n",
       "      <td>Shoes</td>\n",
       "      <td>3</td>\n",
       "      <td>1800.51</td>\n",
       "      <td>Debit Card</td>\n",
       "      <td>12/12/2021</td>\n",
       "      <td>Forum Istanbul</td>\n",
       "    </tr>\n",
       "    <tr>\n",
       "      <th>2</th>\n",
       "      <td>I127801</td>\n",
       "      <td>644</td>\n",
       "      <td>Clothing</td>\n",
       "      <td>1</td>\n",
       "      <td>300.08</td>\n",
       "      <td>Cash</td>\n",
       "      <td>9/11/2021</td>\n",
       "      <td>Metrocity</td>\n",
       "    </tr>\n",
       "    <tr>\n",
       "      <th>3</th>\n",
       "      <td>I173702</td>\n",
       "      <td>4900</td>\n",
       "      <td>Shoes</td>\n",
       "      <td>5</td>\n",
       "      <td>3000.85</td>\n",
       "      <td>Credit Card</td>\n",
       "      <td>16/05/2021</td>\n",
       "      <td>Metropol AVM</td>\n",
       "    </tr>\n",
       "    <tr>\n",
       "      <th>4</th>\n",
       "      <td>I337046</td>\n",
       "      <td>1089</td>\n",
       "      <td>Books</td>\n",
       "      <td>4</td>\n",
       "      <td>60.60</td>\n",
       "      <td>Cash</td>\n",
       "      <td>24/10/2021</td>\n",
       "      <td>Kanyon</td>\n",
       "    </tr>\n",
       "  </tbody>\n",
       "</table>\n",
       "</div>"
      ],
      "text/plain": [
       "  invoice_no  customer_id  category  quantity    price payment_method  \\\n",
       "0    I138884          229  Clothing         5  1500.40    Credit Card   \n",
       "1    I317333         3433     Shoes         3  1800.51     Debit Card   \n",
       "2    I127801          644  Clothing         1   300.08           Cash   \n",
       "3    I173702         4900     Shoes         5  3000.85    Credit Card   \n",
       "4    I337046         1089     Books         4    60.60           Cash   \n",
       "\n",
       "  invoice_date   shopping_mall  \n",
       "0     5/8/2022          Kanyon  \n",
       "1   12/12/2021  Forum Istanbul  \n",
       "2    9/11/2021       Metrocity  \n",
       "3   16/05/2021    Metropol AVM  \n",
       "4   24/10/2021          Kanyon  "
      ]
     },
     "execution_count": 3,
     "metadata": {},
     "output_type": "execute_result"
    }
   ],
   "source": [
    "import numpy as np\n",
    "import pandas as pd\n",
    "import matplotlib.pyplot as plt\n",
    "\n",
    "df = pd.read_csv('fct_invoice.csv')\n",
    "customer = pd.read_json('dim_customer.json')\n",
    "customer.to_csv('dim_customer,csv',index=False)\n",
    "df.head()"
   ]
  },
  {
   "cell_type": "code",
   "execution_count": 5,
   "id": "959b3a5a-7b93-47d9-a69c-7a7819435328",
   "metadata": {},
   "outputs": [],
   "source": [
    "# Easy"
   ]
  },
  {
   "cell_type": "code",
   "execution_count": 13,
   "id": "66eefa2f-1026-4c22-ae6a-7d6ae9c7df6c",
   "metadata": {},
   "outputs": [
    {
     "name": "stdout",
     "output_type": "stream",
     "text": [
      "5191\n"
     ]
    }
   ],
   "source": [
    "# 1. How many unique customers are in the dataset?\n",
    "\n",
    "unique_customers_count = df['customer_id'].nunique()\n",
    "\n",
    "print(unique_customers_count)"
   ]
  },
  {
   "cell_type": "code",
   "execution_count": 33,
   "id": "7cb4a022-b022-42d3-b597-0774b93581a4",
   "metadata": {},
   "outputs": [
    {
     "name": "stdout",
     "output_type": "stream",
     "text": [
      "['Clothing' 'Shoes' 'Books' 'Cosmetics' 'Food & Beverage' 'Toys'\n",
      " 'Technology' 'Souvenir']\n",
      "8\n"
     ]
    }
   ],
   "source": [
    "# 2. What are the different categories of products available? How many unique categories are there?\n",
    "\n",
    "categories = df['category'].unique()\n",
    "categories_count = df['category'].nunique()\n",
    "\n",
    "print(categories)\n",
    "print(categories_count)"
   ]
  },
  {
   "cell_type": "code",
   "execution_count": 55,
   "id": "f8248d7f-1b6f-4ad5-82c0-4f5c1fb5ccd8",
   "metadata": {},
   "outputs": [
    {
     "name": "stdout",
     "output_type": "stream",
     "text": [
      "payment_method\n",
      "Cash           44447\n",
      "Credit Card    34931\n",
      "Debit Card     20079\n",
      "Name: count, dtype: int64\n",
      "44447\n"
     ]
    }
   ],
   "source": [
    "# 3. Which payment method is the most popular? How many times was it used?\n",
    "\n",
    "popular_payment_method = df['payment_method'].value_counts()\n",
    "popular_payment_method_count = df['payment_method'].value_counts()\n",
    "print(popular_payment_method)\n",
    "print(popular_payment_method_count.max())"
   ]
  },
  {
   "cell_type": "code",
   "execution_count": 57,
   "id": "5bf9eeaf-71bd-450f-800d-ae4d46578fed",
   "metadata": {},
   "outputs": [],
   "source": [
    "# Medium"
   ]
  },
  {
   "cell_type": "code",
   "execution_count": 71,
   "id": "c931e133-29df-418a-a9e7-1a16df373bfd",
   "metadata": {},
   "outputs": [
    {
     "name": "stdout",
     "output_type": "stream",
     "text": [
      "            customer_id  quantity        price   total_sales\n",
      "category                                                    \n",
      "Clothing       34578159    103558  31075684.64  1.139968e+08\n",
      "Shoes           9901187     30217  18135336.89  6.655345e+07\n",
      "Technology      5069499     15021  15772050.00  5.786235e+07\n"
     ]
    }
   ],
   "source": [
    "# 1. What are the three most popular categories, by total\n",
    "df['total_sales'] = df['price'] * df['quantity']\n",
    "popular_categories = df.groupby(['category']).sum('total_sales').sort_values('price', ascending=False)\n",
    "print(popular_categories.head(3))"
   ]
  },
  {
   "cell_type": "code",
   "execution_count": 77,
   "id": "f0275d74-498e-4a49-8112-0a7ccb11f819",
   "metadata": {},
   "outputs": [
    {
     "data": {
      "text/plain": [
       "82039768.15"
      ]
     },
     "execution_count": 77,
     "metadata": {},
     "output_type": "execute_result"
    }
   ],
   "source": [
    "# 2. What are the total sales attributed to customers over the age of 45?\n",
    "\n",
    "total_sales = pd.merge(df, customer, left_on = 'customer_id', right_on = 'id')\n",
    "total_sales_over_45 = total_sales[total_sales['age'] > 45]\n",
    "total_sales_over_45['total_sales'].sum()"
   ]
  },
  {
   "cell_type": "code",
   "execution_count": 99,
   "id": "ceea0453-8ca1-44ff-bca0-43589dd124d6",
   "metadata": {},
   "outputs": [
    {
     "data": {
      "image/png": "[encoded data removed]",
      "text/plain": [
       "<Figure size 640x480 with 1 Axes>"
      ]
     },
     "metadata": {},
     "output_type": "display_data"
    }
   ],
   "source": [
    "# 3. How is the data distributed across different invoice dates? Are there any seasonal trends or patterns? (Use a graph for this.)\n",
    "\n",
    "df['invoice_date'] = pd.to_datetime(df['invoice_date'], format='%d/%m/%Y')\n",
    "trends_per_month = df.groupby(df['invoice_date'].dt.month).sum(numeric_only=True)\n",
    "x = trends_per_month.index\n",
    "y = trends_per_month['total_sales']\n",
    "plt.plot(x,y)\n",
    "plt.xlabel('Months')\n",
    "plt.ylabel('Sales')\n",
    "plt.title('Sales per Month')\n",
    "plt.show()"
   ]
  },
  {
   "cell_type": "code",
   "execution_count": 101,
   "id": "9eba92c3-63f8-4585-b3d3-dcdbe504a753",
   "metadata": {},
   "outputs": [],
   "source": [
    "# Hard"
   ]
  },
  {
   "cell_type": "code",
   "execution_count": null,
   "id": "84e7c5a5-4958-4047-becc-36c47d263810",
   "metadata": {},
   "outputs": [],
   "source": [
    "# 1. Create a pivot table showing the breakdown of sales across these dimensions, in this order: category, decade age range (e.g., 10-19, 20-29, and so forth).\n",
    "\n",
    "#??? sorry"
   ]
  }
 ],
 "metadata": {
  "kernelspec": {
   "display_name": "Python 3 (ipykernel)",
   "language": "python",
   "name": "python3"
  },
  "language_info": {
   "codemirror_mode": {
    "name": "ipython",
    "version": 3
   },
   "file_extension": ".py",
   "mimetype": "text/x-python",
   "name": "python",
   "nbconvert_exporter": "python",
   "pygments_lexer": "ipython3",
   "version": "3.11.7"
  }
 },
 "nbformat": 4,
 "nbformat_minor": 5
}
